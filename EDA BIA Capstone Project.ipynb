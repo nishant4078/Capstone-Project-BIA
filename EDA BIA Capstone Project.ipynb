{
 "cells": [
  {
   "cell_type": "markdown",
   "id": "2829edd2",
   "metadata": {},
   "source": [
    "## About Dataset"
   ]
  },
  {
   "cell_type": "markdown",
   "id": "b89f823d",
   "metadata": {},
   "source": [
    "This dataset has data on orders placed by customers on supermart grocery store."
   ]
  },
  {
   "cell_type": "markdown",
   "id": "c4037f2c",
   "metadata": {},
   "source": [
    "## Objective"
   ]
  },
  {
   "cell_type": "markdown",
   "id": "3e2c5775",
   "metadata": {},
   "source": [
    "Perform exploratory data analysis to discover any insights and patterns"
   ]
  },
  {
   "cell_type": "markdown",
   "id": "cb48db7f",
   "metadata": {},
   "source": [
    "### Importing Modules"
   ]
  },
  {
   "cell_type": "code",
   "execution_count": 1,
   "id": "5ea3cd72",
   "metadata": {},
   "outputs": [],
   "source": [
    "import numpy as np\n",
    "import pandas as pd\n",
    "import seaborn as sns\n",
    "import matplotlib.pyplot as plt\n",
    "from datetime import datetime\n",
    "import calendar"
   ]
  },
  {
   "cell_type": "markdown",
   "id": "29b32d37",
   "metadata": {},
   "source": [
    "### Importing the data"
   ]
  },
  {
   "cell_type": "code",
   "execution_count": 2,
   "id": "67e98f8e",
   "metadata": {},
   "outputs": [],
   "source": [
    "data = pd.read_csv(r\"F:\\data science course\\Project capstone\\Batch b datasets\\Supermart_sales.csv\")"
   ]
  },
  {
   "cell_type": "code",
   "execution_count": 3,
   "id": "e96ea35d",
   "metadata": {},
   "outputs": [
    {
     "data": {
      "text/html": [
       "<div>\n",
       "<style scoped>\n",
       "    .dataframe tbody tr th:only-of-type {\n",
       "        vertical-align: middle;\n",
       "    }\n",
       "\n",
       "    .dataframe tbody tr th {\n",
       "        vertical-align: top;\n",
       "    }\n",
       "\n",
       "    .dataframe thead th {\n",
       "        text-align: right;\n",
       "    }\n",
       "</style>\n",
       "<table border=\"1\" class=\"dataframe\">\n",
       "  <thead>\n",
       "    <tr style=\"text-align: right;\">\n",
       "      <th></th>\n",
       "      <th>Order ID</th>\n",
       "      <th>Customer Name</th>\n",
       "      <th>Category</th>\n",
       "      <th>Sub Category</th>\n",
       "      <th>City</th>\n",
       "      <th>Order Date</th>\n",
       "      <th>Region</th>\n",
       "      <th>Sales</th>\n",
       "      <th>Discount</th>\n",
       "      <th>Profit</th>\n",
       "      <th>State</th>\n",
       "    </tr>\n",
       "  </thead>\n",
       "  <tbody>\n",
       "    <tr>\n",
       "      <th>0</th>\n",
       "      <td>OD1</td>\n",
       "      <td>Harish</td>\n",
       "      <td>Oil &amp; Masala</td>\n",
       "      <td>Masalas</td>\n",
       "      <td>Vellore</td>\n",
       "      <td>11-08-2017</td>\n",
       "      <td>North</td>\n",
       "      <td>1254</td>\n",
       "      <td>0.12</td>\n",
       "      <td>401.28</td>\n",
       "      <td>Tamil Nadu</td>\n",
       "    </tr>\n",
       "    <tr>\n",
       "      <th>1</th>\n",
       "      <td>OD2</td>\n",
       "      <td>Sudha</td>\n",
       "      <td>Beverages</td>\n",
       "      <td>Health Drinks</td>\n",
       "      <td>Krishnagiri</td>\n",
       "      <td>11-08-2017</td>\n",
       "      <td>South</td>\n",
       "      <td>749</td>\n",
       "      <td>0.18</td>\n",
       "      <td>149.80</td>\n",
       "      <td>Tamil Nadu</td>\n",
       "    </tr>\n",
       "    <tr>\n",
       "      <th>2</th>\n",
       "      <td>OD3</td>\n",
       "      <td>Hussain</td>\n",
       "      <td>Food Grains</td>\n",
       "      <td>Atta &amp; Flour</td>\n",
       "      <td>Perambalur</td>\n",
       "      <td>06-12-2017</td>\n",
       "      <td>West</td>\n",
       "      <td>2360</td>\n",
       "      <td>0.21</td>\n",
       "      <td>165.20</td>\n",
       "      <td>Tamil Nadu</td>\n",
       "    </tr>\n",
       "    <tr>\n",
       "      <th>3</th>\n",
       "      <td>OD4</td>\n",
       "      <td>Jackson</td>\n",
       "      <td>Fruits &amp; Veggies</td>\n",
       "      <td>Fresh Vegetables</td>\n",
       "      <td>Dharmapuri</td>\n",
       "      <td>10-11-2016</td>\n",
       "      <td>South</td>\n",
       "      <td>896</td>\n",
       "      <td>0.25</td>\n",
       "      <td>89.60</td>\n",
       "      <td>Tamil Nadu</td>\n",
       "    </tr>\n",
       "    <tr>\n",
       "      <th>4</th>\n",
       "      <td>OD5</td>\n",
       "      <td>Ridhesh</td>\n",
       "      <td>Food Grains</td>\n",
       "      <td>Organic Staples</td>\n",
       "      <td>Ooty</td>\n",
       "      <td>10-11-2016</td>\n",
       "      <td>South</td>\n",
       "      <td>2355</td>\n",
       "      <td>0.26</td>\n",
       "      <td>918.45</td>\n",
       "      <td>Tamil Nadu</td>\n",
       "    </tr>\n",
       "  </tbody>\n",
       "</table>\n",
       "</div>"
      ],
      "text/plain": [
       "  Order ID Customer Name          Category      Sub Category         City  \\\n",
       "0      OD1        Harish      Oil & Masala           Masalas      Vellore   \n",
       "1      OD2         Sudha         Beverages     Health Drinks  Krishnagiri   \n",
       "2      OD3       Hussain       Food Grains      Atta & Flour   Perambalur   \n",
       "3      OD4       Jackson  Fruits & Veggies  Fresh Vegetables   Dharmapuri   \n",
       "4      OD5       Ridhesh       Food Grains   Organic Staples         Ooty   \n",
       "\n",
       "   Order Date Region  Sales  Discount  Profit       State  \n",
       "0  11-08-2017  North   1254      0.12  401.28  Tamil Nadu  \n",
       "1  11-08-2017  South    749      0.18  149.80  Tamil Nadu  \n",
       "2  06-12-2017   West   2360      0.21  165.20  Tamil Nadu  \n",
       "3  10-11-2016  South    896      0.25   89.60  Tamil Nadu  \n",
       "4  10-11-2016  South   2355      0.26  918.45  Tamil Nadu  "
      ]
     },
     "execution_count": 3,
     "metadata": {},
     "output_type": "execute_result"
    }
   ],
   "source": [
    "supermart = data.copy()\n",
    "supermart.head()"
   ]
  },
  {
   "cell_type": "markdown",
   "id": "90235689",
   "metadata": {},
   "source": [
    "## Data Cleaning and Manipulation"
   ]
  },
  {
   "cell_type": "markdown",
   "id": "ec3ee3ad",
   "metadata": {},
   "source": [
    " Renaming columns to eliminate empty space in between column names"
   ]
  },
  {
   "cell_type": "code",
   "execution_count": 4,
   "id": "eacf0745",
   "metadata": {},
   "outputs": [],
   "source": [
    "rename_column = {'Order ID':'order_id', 'Customer Name':'customer_name', 'Category':'category', 'Sub Category':'sub_category',\n",
    "                'City':'city', 'Order Date':'order_date', 'Region':'region', 'Sales':'sales_price', 'Discount':'discount',\n",
    "                'Profit':'profit', 'State':'state'}\n",
    "supermart = supermart.rename(columns = rename_column)"
   ]
  },
  {
   "cell_type": "code",
   "execution_count": 5,
   "id": "91683cb7",
   "metadata": {},
   "outputs": [
    {
     "data": {
      "text/html": [
       "<div>\n",
       "<style scoped>\n",
       "    .dataframe tbody tr th:only-of-type {\n",
       "        vertical-align: middle;\n",
       "    }\n",
       "\n",
       "    .dataframe tbody tr th {\n",
       "        vertical-align: top;\n",
       "    }\n",
       "\n",
       "    .dataframe thead th {\n",
       "        text-align: right;\n",
       "    }\n",
       "</style>\n",
       "<table border=\"1\" class=\"dataframe\">\n",
       "  <thead>\n",
       "    <tr style=\"text-align: right;\">\n",
       "      <th></th>\n",
       "      <th>order_id</th>\n",
       "      <th>customer_name</th>\n",
       "      <th>category</th>\n",
       "      <th>sub_category</th>\n",
       "      <th>city</th>\n",
       "      <th>order_date</th>\n",
       "      <th>region</th>\n",
       "      <th>sales_price</th>\n",
       "      <th>discount</th>\n",
       "      <th>profit</th>\n",
       "      <th>state</th>\n",
       "    </tr>\n",
       "  </thead>\n",
       "  <tbody>\n",
       "    <tr>\n",
       "      <th>0</th>\n",
       "      <td>OD1</td>\n",
       "      <td>Harish</td>\n",
       "      <td>Oil &amp; Masala</td>\n",
       "      <td>Masalas</td>\n",
       "      <td>Vellore</td>\n",
       "      <td>11-08-2017</td>\n",
       "      <td>North</td>\n",
       "      <td>1254</td>\n",
       "      <td>0.12</td>\n",
       "      <td>401.28</td>\n",
       "      <td>Tamil Nadu</td>\n",
       "    </tr>\n",
       "    <tr>\n",
       "      <th>1</th>\n",
       "      <td>OD2</td>\n",
       "      <td>Sudha</td>\n",
       "      <td>Beverages</td>\n",
       "      <td>Health Drinks</td>\n",
       "      <td>Krishnagiri</td>\n",
       "      <td>11-08-2017</td>\n",
       "      <td>South</td>\n",
       "      <td>749</td>\n",
       "      <td>0.18</td>\n",
       "      <td>149.80</td>\n",
       "      <td>Tamil Nadu</td>\n",
       "    </tr>\n",
       "    <tr>\n",
       "      <th>2</th>\n",
       "      <td>OD3</td>\n",
       "      <td>Hussain</td>\n",
       "      <td>Food Grains</td>\n",
       "      <td>Atta &amp; Flour</td>\n",
       "      <td>Perambalur</td>\n",
       "      <td>06-12-2017</td>\n",
       "      <td>West</td>\n",
       "      <td>2360</td>\n",
       "      <td>0.21</td>\n",
       "      <td>165.20</td>\n",
       "      <td>Tamil Nadu</td>\n",
       "    </tr>\n",
       "    <tr>\n",
       "      <th>3</th>\n",
       "      <td>OD4</td>\n",
       "      <td>Jackson</td>\n",
       "      <td>Fruits &amp; Veggies</td>\n",
       "      <td>Fresh Vegetables</td>\n",
       "      <td>Dharmapuri</td>\n",
       "      <td>10-11-2016</td>\n",
       "      <td>South</td>\n",
       "      <td>896</td>\n",
       "      <td>0.25</td>\n",
       "      <td>89.60</td>\n",
       "      <td>Tamil Nadu</td>\n",
       "    </tr>\n",
       "    <tr>\n",
       "      <th>4</th>\n",
       "      <td>OD5</td>\n",
       "      <td>Ridhesh</td>\n",
       "      <td>Food Grains</td>\n",
       "      <td>Organic Staples</td>\n",
       "      <td>Ooty</td>\n",
       "      <td>10-11-2016</td>\n",
       "      <td>South</td>\n",
       "      <td>2355</td>\n",
       "      <td>0.26</td>\n",
       "      <td>918.45</td>\n",
       "      <td>Tamil Nadu</td>\n",
       "    </tr>\n",
       "  </tbody>\n",
       "</table>\n",
       "</div>"
      ],
      "text/plain": [
       "  order_id customer_name          category      sub_category         city  \\\n",
       "0      OD1        Harish      Oil & Masala           Masalas      Vellore   \n",
       "1      OD2         Sudha         Beverages     Health Drinks  Krishnagiri   \n",
       "2      OD3       Hussain       Food Grains      Atta & Flour   Perambalur   \n",
       "3      OD4       Jackson  Fruits & Veggies  Fresh Vegetables   Dharmapuri   \n",
       "4      OD5       Ridhesh       Food Grains   Organic Staples         Ooty   \n",
       "\n",
       "   order_date region  sales_price  discount  profit       state  \n",
       "0  11-08-2017  North         1254      0.12  401.28  Tamil Nadu  \n",
       "1  11-08-2017  South          749      0.18  149.80  Tamil Nadu  \n",
       "2  06-12-2017   West         2360      0.21  165.20  Tamil Nadu  \n",
       "3  10-11-2016  South          896      0.25   89.60  Tamil Nadu  \n",
       "4  10-11-2016  South         2355      0.26  918.45  Tamil Nadu  "
      ]
     },
     "execution_count": 5,
     "metadata": {},
     "output_type": "execute_result"
    }
   ],
   "source": [
    "supermart.head()"
   ]
  },
  {
   "cell_type": "markdown",
   "id": "7a839230",
   "metadata": {},
   "source": [
    "#### Checking null values"
   ]
  },
  {
   "cell_type": "code",
   "execution_count": 6,
   "id": "c0604f74",
   "metadata": {},
   "outputs": [
    {
     "data": {
      "text/plain": [
       "order_id         0\n",
       "customer_name    0\n",
       "category         0\n",
       "sub_category     0\n",
       "city             0\n",
       "order_date       0\n",
       "region           0\n",
       "sales_price      0\n",
       "discount         0\n",
       "profit           0\n",
       "state            0\n",
       "dtype: int64"
      ]
     },
     "execution_count": 6,
     "metadata": {},
     "output_type": "execute_result"
    }
   ],
   "source": [
    "supermart.isnull().sum()"
   ]
  },
  {
   "cell_type": "markdown",
   "id": "d8255e32",
   "metadata": {},
   "source": [
    "#### Checking duplicate rows"
   ]
  },
  {
   "cell_type": "code",
   "execution_count": 7,
   "id": "0896284e",
   "metadata": {},
   "outputs": [
    {
     "data": {
      "text/plain": [
       "0"
      ]
     },
     "execution_count": 7,
     "metadata": {},
     "output_type": "execute_result"
    }
   ],
   "source": [
    "supermart.duplicated().sum()"
   ]
  },
  {
   "cell_type": "markdown",
   "id": "860dfa36",
   "metadata": {},
   "source": [
    "#### Checking negative values"
   ]
  },
  {
   "cell_type": "code",
   "execution_count": 8,
   "id": "a775b84e",
   "metadata": {},
   "outputs": [
    {
     "data": {
      "text/plain": [
       "sales_price    0\n",
       "discount       0\n",
       "profit         0\n",
       "dtype: int64"
      ]
     },
     "execution_count": 8,
     "metadata": {},
     "output_type": "execute_result"
    }
   ],
   "source": [
    "(supermart._get_numeric_data() < 0).sum()"
   ]
  },
  {
   "cell_type": "code",
   "execution_count": 9,
   "id": "442d4a10",
   "metadata": {},
   "outputs": [
    {
     "name": "stdout",
     "output_type": "stream",
     "text": [
      "<class 'pandas.core.frame.DataFrame'>\n",
      "RangeIndex: 9994 entries, 0 to 9993\n",
      "Data columns (total 11 columns):\n",
      " #   Column         Non-Null Count  Dtype  \n",
      "---  ------         --------------  -----  \n",
      " 0   order_id       9994 non-null   object \n",
      " 1   customer_name  9994 non-null   object \n",
      " 2   category       9994 non-null   object \n",
      " 3   sub_category   9994 non-null   object \n",
      " 4   city           9994 non-null   object \n",
      " 5   order_date     9994 non-null   object \n",
      " 6   region         9994 non-null   object \n",
      " 7   sales_price    9994 non-null   int64  \n",
      " 8   discount       9994 non-null   float64\n",
      " 9   profit         9994 non-null   float64\n",
      " 10  state          9994 non-null   object \n",
      "dtypes: float64(2), int64(1), object(8)\n",
      "memory usage: 859.0+ KB\n"
     ]
    }
   ],
   "source": [
    "supermart.info()"
   ]
  },
  {
   "cell_type": "markdown",
   "id": "602a278c",
   "metadata": {},
   "source": [
    "#### Changing the order date column to datetime Dtype"
   ]
  },
  {
   "cell_type": "code",
   "execution_count": 10,
   "id": "cd2061b2",
   "metadata": {},
   "outputs": [],
   "source": [
    "supermart['order_date'] = pd.to_datetime(supermart['order_date'])"
   ]
  },
  {
   "cell_type": "markdown",
   "id": "3a379be0",
   "metadata": {},
   "source": [
    "#### Creating extra columns for month and year"
   ]
  },
  {
   "cell_type": "code",
   "execution_count": 11,
   "id": "a5a68a8d",
   "metadata": {},
   "outputs": [],
   "source": [
    "supermart['month_name'] = [calendar.month_abbr[num] for num in supermart['order_date'].dt.month]\n",
    "supermart['month'] = supermart['order_date'].dt.month\n",
    "supermart['year'] = supermart['order_date'].dt.year"
   ]
  },
  {
   "cell_type": "code",
   "execution_count": 12,
   "id": "d5058f46",
   "metadata": {},
   "outputs": [
    {
     "data": {
      "text/html": [
       "<div>\n",
       "<style scoped>\n",
       "    .dataframe tbody tr th:only-of-type {\n",
       "        vertical-align: middle;\n",
       "    }\n",
       "\n",
       "    .dataframe tbody tr th {\n",
       "        vertical-align: top;\n",
       "    }\n",
       "\n",
       "    .dataframe thead th {\n",
       "        text-align: right;\n",
       "    }\n",
       "</style>\n",
       "<table border=\"1\" class=\"dataframe\">\n",
       "  <thead>\n",
       "    <tr style=\"text-align: right;\">\n",
       "      <th></th>\n",
       "      <th>order_id</th>\n",
       "      <th>customer_name</th>\n",
       "      <th>category</th>\n",
       "      <th>sub_category</th>\n",
       "      <th>city</th>\n",
       "      <th>order_date</th>\n",
       "      <th>region</th>\n",
       "      <th>sales_price</th>\n",
       "      <th>discount</th>\n",
       "      <th>profit</th>\n",
       "      <th>state</th>\n",
       "      <th>month_name</th>\n",
       "      <th>month</th>\n",
       "      <th>year</th>\n",
       "    </tr>\n",
       "  </thead>\n",
       "  <tbody>\n",
       "    <tr>\n",
       "      <th>0</th>\n",
       "      <td>OD1</td>\n",
       "      <td>Harish</td>\n",
       "      <td>Oil &amp; Masala</td>\n",
       "      <td>Masalas</td>\n",
       "      <td>Vellore</td>\n",
       "      <td>2017-11-08</td>\n",
       "      <td>North</td>\n",
       "      <td>1254</td>\n",
       "      <td>0.12</td>\n",
       "      <td>401.28</td>\n",
       "      <td>Tamil Nadu</td>\n",
       "      <td>Nov</td>\n",
       "      <td>11</td>\n",
       "      <td>2017</td>\n",
       "    </tr>\n",
       "    <tr>\n",
       "      <th>1</th>\n",
       "      <td>OD2</td>\n",
       "      <td>Sudha</td>\n",
       "      <td>Beverages</td>\n",
       "      <td>Health Drinks</td>\n",
       "      <td>Krishnagiri</td>\n",
       "      <td>2017-11-08</td>\n",
       "      <td>South</td>\n",
       "      <td>749</td>\n",
       "      <td>0.18</td>\n",
       "      <td>149.80</td>\n",
       "      <td>Tamil Nadu</td>\n",
       "      <td>Nov</td>\n",
       "      <td>11</td>\n",
       "      <td>2017</td>\n",
       "    </tr>\n",
       "    <tr>\n",
       "      <th>2</th>\n",
       "      <td>OD3</td>\n",
       "      <td>Hussain</td>\n",
       "      <td>Food Grains</td>\n",
       "      <td>Atta &amp; Flour</td>\n",
       "      <td>Perambalur</td>\n",
       "      <td>2017-06-12</td>\n",
       "      <td>West</td>\n",
       "      <td>2360</td>\n",
       "      <td>0.21</td>\n",
       "      <td>165.20</td>\n",
       "      <td>Tamil Nadu</td>\n",
       "      <td>Jun</td>\n",
       "      <td>6</td>\n",
       "      <td>2017</td>\n",
       "    </tr>\n",
       "  </tbody>\n",
       "</table>\n",
       "</div>"
      ],
      "text/plain": [
       "  order_id customer_name      category   sub_category         city order_date  \\\n",
       "0      OD1        Harish  Oil & Masala        Masalas      Vellore 2017-11-08   \n",
       "1      OD2         Sudha     Beverages  Health Drinks  Krishnagiri 2017-11-08   \n",
       "2      OD3       Hussain   Food Grains   Atta & Flour   Perambalur 2017-06-12   \n",
       "\n",
       "  region  sales_price  discount  profit       state month_name  month  year  \n",
       "0  North         1254      0.12  401.28  Tamil Nadu        Nov     11  2017  \n",
       "1  South          749      0.18  149.80  Tamil Nadu        Nov     11  2017  \n",
       "2   West         2360      0.21  165.20  Tamil Nadu        Jun      6  2017  "
      ]
     },
     "execution_count": 12,
     "metadata": {},
     "output_type": "execute_result"
    }
   ],
   "source": [
    "supermart.head(3)"
   ]
  },
  {
   "cell_type": "markdown",
   "id": "038feef6",
   "metadata": {},
   "source": [
    "#### Counting number of unique items in each column"
   ]
  },
  {
   "cell_type": "code",
   "execution_count": 13,
   "id": "75ba48c1",
   "metadata": {},
   "outputs": [
    {
     "name": "stdout",
     "output_type": "stream",
     "text": [
      "9994 order_id\n",
      "50 customer_name\n",
      "7 category\n",
      "23 sub_category\n",
      "24 city\n",
      "5 region\n",
      "1 state\n",
      "12 month_name\n",
      "4 year\n"
     ]
    }
   ],
   "source": [
    "print(supermart.order_id.nunique(),'order_id')\n",
    "print(supermart.customer_name.nunique(),'customer_name')\n",
    "print(supermart.category.nunique(),'category')\n",
    "print(supermart.sub_category.nunique(),'sub_category')\n",
    "print(supermart.city.nunique(),'city')\n",
    "print(supermart.region.nunique(),'region')\n",
    "print(supermart.state.nunique(),'state')\n",
    "print(supermart.month_name.nunique(),'month_name')\n",
    "print(supermart.year.nunique(),'year')"
   ]
  },
  {
   "cell_type": "code",
   "execution_count": 14,
   "id": "5c74a9de",
   "metadata": {},
   "outputs": [
    {
     "data": {
      "text/plain": [
       "array([2017, 2016, 2015, 2018], dtype=int64)"
      ]
     },
     "execution_count": 14,
     "metadata": {},
     "output_type": "execute_result"
    }
   ],
   "source": [
    "supermart.year.unique()"
   ]
  },
  {
   "cell_type": "code",
   "execution_count": 15,
   "id": "3bf0eeeb",
   "metadata": {},
   "outputs": [
    {
     "data": {
      "text/plain": [
       "sales_price    14956982.00\n",
       "profit          3747121.20\n",
       "discount           2266.81\n",
       "dtype: float64"
      ]
     },
     "execution_count": 15,
     "metadata": {},
     "output_type": "execute_result"
    }
   ],
   "source": [
    "supermart[['sales_price','profit','discount']].sum()"
   ]
  },
  {
   "cell_type": "code",
   "execution_count": 16,
   "id": "01f66bc7",
   "metadata": {},
   "outputs": [
    {
     "data": {
      "text/plain": [
       "West       3203\n",
       "East       2848\n",
       "Central    2323\n",
       "South      1619\n",
       "North         1\n",
       "Name: region, dtype: int64"
      ]
     },
     "execution_count": 16,
     "metadata": {},
     "output_type": "execute_result"
    }
   ],
   "source": [
    "supermart.region.value_counts()"
   ]
  },
  {
   "cell_type": "markdown",
   "id": "7c5cd493",
   "metadata": {},
   "source": [
    "There is only one entry for the North region, so it will be dropped"
   ]
  },
  {
   "cell_type": "code",
   "execution_count": 17,
   "id": "d1632e36",
   "metadata": {},
   "outputs": [],
   "source": [
    "supermart.drop(supermart[supermart.region == 'North'].index, inplace=True)"
   ]
  },
  {
   "cell_type": "code",
   "execution_count": 18,
   "id": "0d2a630e",
   "metadata": {},
   "outputs": [
    {
     "data": {
      "text/plain": [
       "West       3203\n",
       "East       2848\n",
       "Central    2323\n",
       "South      1619\n",
       "Name: region, dtype: int64"
      ]
     },
     "execution_count": 18,
     "metadata": {},
     "output_type": "execute_result"
    }
   ],
   "source": [
    "supermart.region.value_counts()"
   ]
  },
  {
   "cell_type": "markdown",
   "id": "5279aea1",
   "metadata": {},
   "source": [
    "## Observations from the data"
   ]
  },
  {
   "cell_type": "markdown",
   "id": "7c752d15",
   "metadata": {},
   "source": [
    "#### Total orders = 9994\n",
    "#### Total regions = 5\n",
    "#### Total cities = 24\n",
    "#### Total categories = 7\n",
    "#### Total sub-categories = 23\n",
    "#### Total customers = 50\n",
    "#### Total state = 1\n",
    "#### Total years = 4\n",
    "#### Total months = 12"
   ]
  },
  {
   "cell_type": "markdown",
   "id": "7ad77648",
   "metadata": {},
   "source": [
    "## Problem Statements"
   ]
  },
  {
   "cell_type": "markdown",
   "id": "bb8e3fdf",
   "metadata": {},
   "source": [
    "#### Which category of product is best performing? "
   ]
  },
  {
   "cell_type": "code",
   "execution_count": 19,
   "id": "2aaae458",
   "metadata": {},
   "outputs": [
    {
     "data": {
      "text/html": [
       "<div>\n",
       "<style scoped>\n",
       "    .dataframe tbody tr th:only-of-type {\n",
       "        vertical-align: middle;\n",
       "    }\n",
       "\n",
       "    .dataframe tbody tr th {\n",
       "        vertical-align: top;\n",
       "    }\n",
       "\n",
       "    .dataframe thead th {\n",
       "        text-align: right;\n",
       "    }\n",
       "</style>\n",
       "<table border=\"1\" class=\"dataframe\">\n",
       "  <thead>\n",
       "    <tr style=\"text-align: right;\">\n",
       "      <th></th>\n",
       "      <th>order_id</th>\n",
       "      <th>profit</th>\n",
       "      <th>sales_price</th>\n",
       "    </tr>\n",
       "    <tr>\n",
       "      <th>category</th>\n",
       "      <th></th>\n",
       "      <th></th>\n",
       "      <th></th>\n",
       "    </tr>\n",
       "  </thead>\n",
       "  <tbody>\n",
       "    <tr>\n",
       "      <th>Snacks</th>\n",
       "      <td>1514</td>\n",
       "      <td>568178.85</td>\n",
       "      <td>2237546</td>\n",
       "    </tr>\n",
       "    <tr>\n",
       "      <th>Eggs, Meat &amp; Fish</th>\n",
       "      <td>1490</td>\n",
       "      <td>567357.22</td>\n",
       "      <td>2267401</td>\n",
       "    </tr>\n",
       "    <tr>\n",
       "      <th>Fruits &amp; Veggies</th>\n",
       "      <td>1418</td>\n",
       "      <td>530400.38</td>\n",
       "      <td>2100727</td>\n",
       "    </tr>\n",
       "    <tr>\n",
       "      <th>Bakery</th>\n",
       "      <td>1413</td>\n",
       "      <td>528521.06</td>\n",
       "      <td>2112281</td>\n",
       "    </tr>\n",
       "    <tr>\n",
       "      <th>Beverages</th>\n",
       "      <td>1400</td>\n",
       "      <td>525605.76</td>\n",
       "      <td>2085313</td>\n",
       "    </tr>\n",
       "    <tr>\n",
       "      <th>Food Grains</th>\n",
       "      <td>1398</td>\n",
       "      <td>529162.64</td>\n",
       "      <td>2115272</td>\n",
       "    </tr>\n",
       "    <tr>\n",
       "      <th>Oil &amp; Masala</th>\n",
       "      <td>1360</td>\n",
       "      <td>497494.01</td>\n",
       "      <td>2037188</td>\n",
       "    </tr>\n",
       "  </tbody>\n",
       "</table>\n",
       "</div>"
      ],
      "text/plain": [
       "                   order_id     profit  sales_price\n",
       "category                                           \n",
       "Snacks                 1514  568178.85      2237546\n",
       "Eggs, Meat & Fish      1490  567357.22      2267401\n",
       "Fruits & Veggies       1418  530400.38      2100727\n",
       "Bakery                 1413  528521.06      2112281\n",
       "Beverages              1400  525605.76      2085313\n",
       "Food Grains            1398  529162.64      2115272\n",
       "Oil & Masala           1360  497494.01      2037188"
      ]
     },
     "execution_count": 19,
     "metadata": {},
     "output_type": "execute_result"
    }
   ],
   "source": [
    "best_category = pd.pivot_table(supermart, index='category', values=['order_id','profit','sales_price'],aggfunc={'order_id':'count','profit':'sum','sales_price':'sum'})\n",
    "best_category.sort_values('order_id', ascending = False)"
   ]
  },
  {
   "cell_type": "code",
   "execution_count": 20,
   "id": "41a1b26e",
   "metadata": {},
   "outputs": [
    {
     "data": {
      "text/plain": [
       "<AxesSubplot:xlabel='category'>"
      ]
     },
     "execution_count": 20,
     "metadata": {},
     "output_type": "execute_result"
    },
    {
     "data": {
      "image/png": "[encoded data removed]",
      "text/plain": [
       "<Figure size 720x360 with 1 Axes>"
      ]
     },
     "metadata": {
      "needs_background": "light"
     },
     "output_type": "display_data"
    }
   ],
   "source": [
    "best_category.plot(kind='bar', figsize=(10,5), rot=25)"
   ]
  },
  {
   "cell_type": "markdown",
   "id": "bf7f3a5d",
   "metadata": {},
   "source": [
    " We can see that snacks are the most profitable category and also the best performing in terms of sales"
   ]
  },
  {
   "cell_type": "code",
   "execution_count": 21,
   "id": "046b3b3f",
   "metadata": {},
   "outputs": [
    {
     "data": {
      "image/png": "[encoded data removed]",
      "text/plain": [
       "<Figure size 432x432 with 1 Axes>"
      ]
     },
     "metadata": {},
     "output_type": "display_data"
    }
   ],
   "source": [
    "plt.figure(figsize=(6,6))\n",
    "plt.pie(best_category['profit'], labels=best_category.index, autopct='%1.1f%%', startangle=90, explode=(0.0,0.0,0.0,0.0,0.0,0.0,0.2))\n",
    "plt.title('Pie chat showing percentage of profit made from each category')\n",
    "plt.show()"
   ]
  },
  {
   "cell_type": "markdown",
   "id": "4ebd966a",
   "metadata": {},
   "source": [
    " Snacks made the highest profit"
   ]
  },
  {
   "cell_type": "markdown",
   "id": "a43da786",
   "metadata": {},
   "source": [
    "#### Which city was the highest number of snacks sold? "
   ]
  },
  {
   "cell_type": "code",
   "execution_count": 22,
   "id": "1e658b15",
   "metadata": {},
   "outputs": [
    {
     "data": {
      "text/html": [
       "<div>\n",
       "<style scoped>\n",
       "    .dataframe tbody tr th:only-of-type {\n",
       "        vertical-align: middle;\n",
       "    }\n",
       "\n",
       "    .dataframe tbody tr th {\n",
       "        vertical-align: top;\n",
       "    }\n",
       "\n",
       "    .dataframe thead th {\n",
       "        text-align: right;\n",
       "    }\n",
       "</style>\n",
       "<table border=\"1\" class=\"dataframe\">\n",
       "  <thead>\n",
       "    <tr style=\"text-align: right;\">\n",
       "      <th></th>\n",
       "      <th>order_id</th>\n",
       "    </tr>\n",
       "    <tr>\n",
       "      <th>city</th>\n",
       "      <th></th>\n",
       "    </tr>\n",
       "  </thead>\n",
       "  <tbody>\n",
       "    <tr>\n",
       "      <th>Kanyakumari</th>\n",
       "      <td>75</td>\n",
       "    </tr>\n",
       "    <tr>\n",
       "      <th>Virudhunagar</th>\n",
       "      <td>74</td>\n",
       "    </tr>\n",
       "    <tr>\n",
       "      <th>Tirunelveli</th>\n",
       "      <td>72</td>\n",
       "    </tr>\n",
       "    <tr>\n",
       "      <th>Perambalur</th>\n",
       "      <td>71</td>\n",
       "    </tr>\n",
       "    <tr>\n",
       "      <th>Chennai</th>\n",
       "      <td>68</td>\n",
       "    </tr>\n",
       "  </tbody>\n",
       "</table>\n",
       "</div>"
      ],
      "text/plain": [
       "              order_id\n",
       "city                  \n",
       "Kanyakumari         75\n",
       "Virudhunagar        74\n",
       "Tirunelveli         72\n",
       "Perambalur          71\n",
       "Chennai             68"
      ]
     },
     "execution_count": 22,
     "metadata": {},
     "output_type": "execute_result"
    }
   ],
   "source": [
    "city_snack= supermart.loc[supermart['category']=='Snacks'].groupby('city').count()[['order_id']]\n",
    "city_snack = city_snack.sort_values('order_id', ascending=False)[0:5]\n",
    "city_snack"
   ]
  },
  {
   "cell_type": "code",
   "execution_count": 23,
   "id": "8bef2656",
   "metadata": {},
   "outputs": [
    {
     "data": {
      "text/plain": [
       "<AxesSubplot:title={'center':'Top 5 Cities with highest no. snacks sold'}, xlabel='city', ylabel='Snacks sold'>"
      ]
     },
     "execution_count": 23,
     "metadata": {},
     "output_type": "execute_result"
    },
    {
     "data": {
      "image/png": "[encoded data removed]",
      "text/plain": [
       "<Figure size 504x360 with 1 Axes>"
      ]
     },
     "metadata": {
      "needs_background": "light"
     },
     "output_type": "display_data"
    }
   ],
   "source": [
    "city_snack.plot(kind='line',color = 'black', linewidth=3, marker='.',markerfacecolor='white',markersize=15, \n",
    "                ylabel='Snacks sold', title ='Top 5 Cities with highest no. snacks sold', figsize=(7,5))"
   ]
  },
  {
   "cell_type": "markdown",
   "id": "ebb3d51e",
   "metadata": {},
   "source": [
    " In Kanyakumari highest number of snacks sold"
   ]
  },
  {
   "cell_type": "code",
   "execution_count": null,
   "id": "f77b12d1",
   "metadata": {},
   "outputs": [],
   "source": []
  },
  {
   "cell_type": "markdown",
   "id": "d122b36d",
   "metadata": {},
   "source": [
    "#### What are the top Sub Categories according to profit? "
   ]
  },
  {
   "cell_type": "code",
   "execution_count": 24,
   "id": "c8175123",
   "metadata": {},
   "outputs": [
    {
     "data": {
      "text/html": [
       "<div>\n",
       "<style scoped>\n",
       "    .dataframe tbody tr th:only-of-type {\n",
       "        vertical-align: middle;\n",
       "    }\n",
       "\n",
       "    .dataframe tbody tr th {\n",
       "        vertical-align: top;\n",
       "    }\n",
       "\n",
       "    .dataframe thead th {\n",
       "        text-align: right;\n",
       "    }\n",
       "</style>\n",
       "<table border=\"1\" class=\"dataframe\">\n",
       "  <thead>\n",
       "    <tr style=\"text-align: right;\">\n",
       "      <th></th>\n",
       "      <th>profit</th>\n",
       "    </tr>\n",
       "    <tr>\n",
       "      <th>sub_category</th>\n",
       "      <th></th>\n",
       "    </tr>\n",
       "  </thead>\n",
       "  <tbody>\n",
       "    <tr>\n",
       "      <th>Health Drinks</th>\n",
       "      <td>267469.79</td>\n",
       "    </tr>\n",
       "    <tr>\n",
       "      <th>Soft Drinks</th>\n",
       "      <td>258135.97</td>\n",
       "    </tr>\n",
       "    <tr>\n",
       "      <th>Noodles</th>\n",
       "      <td>193685.81</td>\n",
       "    </tr>\n",
       "    <tr>\n",
       "      <th>Breads &amp; Buns</th>\n",
       "      <td>190764.98</td>\n",
       "    </tr>\n",
       "    <tr>\n",
       "      <th>Cookies</th>\n",
       "      <td>190643.70</td>\n",
       "    </tr>\n",
       "    <tr>\n",
       "      <th>Chocolates</th>\n",
       "      <td>183849.34</td>\n",
       "    </tr>\n",
       "    <tr>\n",
       "      <th>Biscuits</th>\n",
       "      <td>169357.62</td>\n",
       "    </tr>\n",
       "    <tr>\n",
       "      <th>Masalas</th>\n",
       "      <td>168597.83</td>\n",
       "    </tr>\n",
       "    <tr>\n",
       "      <th>Edible Oil &amp; Ghee</th>\n",
       "      <td>168593.58</td>\n",
       "    </tr>\n",
       "    <tr>\n",
       "      <th>Cakes</th>\n",
       "      <td>168398.46</td>\n",
       "    </tr>\n",
       "    <tr>\n",
       "      <th>Spices</th>\n",
       "      <td>160302.60</td>\n",
       "    </tr>\n",
       "    <tr>\n",
       "      <th>Mutton</th>\n",
       "      <td>151389.40</td>\n",
       "    </tr>\n",
       "    <tr>\n",
       "      <th>Fish</th>\n",
       "      <td>147248.01</td>\n",
       "    </tr>\n",
       "    <tr>\n",
       "      <th>Eggs</th>\n",
       "      <td>144669.92</td>\n",
       "    </tr>\n",
       "    <tr>\n",
       "      <th>Organic Staples</th>\n",
       "      <td>144136.89</td>\n",
       "    </tr>\n",
       "    <tr>\n",
       "      <th>Fresh Fruits</th>\n",
       "      <td>134668.35</td>\n",
       "    </tr>\n",
       "    <tr>\n",
       "      <th>Organic Vegetables</th>\n",
       "      <td>133596.37</td>\n",
       "    </tr>\n",
       "    <tr>\n",
       "      <th>Fresh Vegetables</th>\n",
       "      <td>131273.33</td>\n",
       "    </tr>\n",
       "    <tr>\n",
       "      <th>Organic Fruits</th>\n",
       "      <td>130862.33</td>\n",
       "    </tr>\n",
       "    <tr>\n",
       "      <th>Dals &amp; Pulses</th>\n",
       "      <td>130232.29</td>\n",
       "    </tr>\n",
       "    <tr>\n",
       "      <th>Atta &amp; Flour</th>\n",
       "      <td>127861.10</td>\n",
       "    </tr>\n",
       "    <tr>\n",
       "      <th>Rice</th>\n",
       "      <td>126932.36</td>\n",
       "    </tr>\n",
       "    <tr>\n",
       "      <th>Chicken</th>\n",
       "      <td>124049.89</td>\n",
       "    </tr>\n",
       "  </tbody>\n",
       "</table>\n",
       "</div>"
      ],
      "text/plain": [
       "                       profit\n",
       "sub_category                 \n",
       "Health Drinks       267469.79\n",
       "Soft Drinks         258135.97\n",
       "Noodles             193685.81\n",
       "Breads & Buns       190764.98\n",
       "Cookies             190643.70\n",
       "Chocolates          183849.34\n",
       "Biscuits            169357.62\n",
       "Masalas             168597.83\n",
       "Edible Oil & Ghee   168593.58\n",
       "Cakes               168398.46\n",
       "Spices              160302.60\n",
       "Mutton              151389.40\n",
       "Fish                147248.01\n",
       "Eggs                144669.92\n",
       "Organic Staples     144136.89\n",
       "Fresh Fruits        134668.35\n",
       "Organic Vegetables  133596.37\n",
       "Fresh Vegetables    131273.33\n",
       "Organic Fruits      130862.33\n",
       "Dals & Pulses       130232.29\n",
       "Atta & Flour        127861.10\n",
       "Rice                126932.36\n",
       "Chicken             124049.89"
      ]
     },
     "execution_count": 24,
     "metadata": {},
     "output_type": "execute_result"
    }
   ],
   "source": [
    "subcat_profit = supermart[['sub_category', 'profit']].groupby('sub_category').sum()\n",
    "subcat_profit.sort_values('profit', ascending=False)"
   ]
  },
  {
   "cell_type": "markdown",
   "id": "fc35823d",
   "metadata": {},
   "source": [
    "The most profitable sub category is Health Drinks"
   ]
  },
  {
   "cell_type": "code",
   "execution_count": 25,
   "id": "6e6c0835",
   "metadata": {},
   "outputs": [
    {
     "data": {
      "text/plain": [
       "<AxesSubplot:title={'center':'Sub categories wise Profit'}, ylabel='Sub category'>"
      ]
     },
     "execution_count": 25,
     "metadata": {},
     "output_type": "execute_result"
    },
    {
     "data": {
      "image/png": "[encoded data removed]",
      "text/plain": [
       "<Figure size 936x576 with 1 Axes>"
      ]
     },
     "metadata": {
      "needs_background": "light"
     },
     "output_type": "display_data"
    }
   ],
   "source": [
    "subcat_profit.plot(kind='barh', figsize=(13,8), title = 'Sub categories wise Profit',xlabel='Sub category')"
   ]
  },
  {
   "cell_type": "markdown",
   "id": "90b69b99",
   "metadata": {},
   "source": [
    "#### Which city was the highest number of Health Drinks sold? "
   ]
  },
  {
   "cell_type": "code",
   "execution_count": 61,
   "id": "290151db",
   "metadata": {},
   "outputs": [
    {
     "data": {
      "text/html": [
       "<div>\n",
       "<style scoped>\n",
       "    .dataframe tbody tr th:only-of-type {\n",
       "        vertical-align: middle;\n",
       "    }\n",
       "\n",
       "    .dataframe tbody tr th {\n",
       "        vertical-align: top;\n",
       "    }\n",
       "\n",
       "    .dataframe thead th {\n",
       "        text-align: right;\n",
       "    }\n",
       "</style>\n",
       "<table border=\"1\" class=\"dataframe\">\n",
       "  <thead>\n",
       "    <tr style=\"text-align: right;\">\n",
       "      <th></th>\n",
       "      <th>order_id</th>\n",
       "    </tr>\n",
       "    <tr>\n",
       "      <th>city</th>\n",
       "      <th></th>\n",
       "    </tr>\n",
       "  </thead>\n",
       "  <tbody>\n",
       "    <tr>\n",
       "      <th>Ramanadhapuram</th>\n",
       "      <td>40</td>\n",
       "    </tr>\n",
       "    <tr>\n",
       "      <th>Chennai</th>\n",
       "      <td>39</td>\n",
       "    </tr>\n",
       "    <tr>\n",
       "      <th>Ooty</th>\n",
       "      <td>38</td>\n",
       "    </tr>\n",
       "    <tr>\n",
       "      <th>Viluppuram</th>\n",
       "      <td>37</td>\n",
       "    </tr>\n",
       "    <tr>\n",
       "      <th>Tenkasi</th>\n",
       "      <td>36</td>\n",
       "    </tr>\n",
       "  </tbody>\n",
       "</table>\n",
       "</div>"
      ],
      "text/plain": [
       "                order_id\n",
       "city                    \n",
       "Ramanadhapuram        40\n",
       "Chennai               39\n",
       "Ooty                  38\n",
       "Viluppuram            37\n",
       "Tenkasi               36"
      ]
     },
     "execution_count": 61,
     "metadata": {},
     "output_type": "execute_result"
    }
   ],
   "source": [
    "city_health_drink= supermart.loc[supermart['sub_category']=='Health Drinks'].groupby('city').count()[['order_id']]\n",
    "city_health_drink = city_health_drink.sort_values('order_id', ascending=False)[:5]\n",
    "city_health_drink"
   ]
  },
  {
   "cell_type": "code",
   "execution_count": 69,
   "id": "6b1f2a1d",
   "metadata": {},
   "outputs": [
    {
     "data": {
      "text/plain": [
       "<AxesSubplot:title={'center':'Top 5 Cities with highest no. of Health Drinks sold'}, xlabel='city', ylabel='Health Drinks sold'>"
      ]
     },
     "execution_count": 69,
     "metadata": {},
     "output_type": "execute_result"
    },
    {
     "data": {
      "image/png": "[encoded data removed]",
      "text/plain": [
       "<Figure size 432x432 with 1 Axes>"
      ]
     },
     "metadata": {
      "needs_background": "light"
     },
     "output_type": "display_data"
    }
   ],
   "source": [
    "city_health_drink.plot(kind='bar', ylabel='Health Drinks sold', color ='green', rot=0, figsize=(6,6),\n",
    "                       title ='Top 5 Cities with highest no. of Health Drinks sold')"
   ]
  },
  {
   "cell_type": "markdown",
   "id": "1eb17276",
   "metadata": {},
   "source": [
    " In Ramanadhapuram highest no. of Health Drinks sold"
   ]
  },
  {
   "cell_type": "code",
   "execution_count": null,
   "id": "2b80294e",
   "metadata": {},
   "outputs": [],
   "source": []
  },
  {
   "cell_type": "markdown",
   "id": "be811ee5",
   "metadata": {},
   "source": [
    "#### What are top 5 cities with the most sales? "
   ]
  },
  {
   "cell_type": "code",
   "execution_count": 28,
   "id": "da3d1a1d",
   "metadata": {},
   "outputs": [
    {
     "data": {
      "text/html": [
       "<div>\n",
       "<style scoped>\n",
       "    .dataframe tbody tr th:only-of-type {\n",
       "        vertical-align: middle;\n",
       "    }\n",
       "\n",
       "    .dataframe tbody tr th {\n",
       "        vertical-align: top;\n",
       "    }\n",
       "\n",
       "    .dataframe thead th {\n",
       "        text-align: right;\n",
       "    }\n",
       "</style>\n",
       "<table border=\"1\" class=\"dataframe\">\n",
       "  <thead>\n",
       "    <tr style=\"text-align: right;\">\n",
       "      <th></th>\n",
       "      <th>sales_price</th>\n",
       "    </tr>\n",
       "    <tr>\n",
       "      <th>city</th>\n",
       "      <th></th>\n",
       "    </tr>\n",
       "  </thead>\n",
       "  <tbody>\n",
       "    <tr>\n",
       "      <th>Kanyakumari</th>\n",
       "      <td>706764</td>\n",
       "    </tr>\n",
       "    <tr>\n",
       "      <th>Vellore</th>\n",
       "      <td>675296</td>\n",
       "    </tr>\n",
       "    <tr>\n",
       "      <th>Bodi</th>\n",
       "      <td>667177</td>\n",
       "    </tr>\n",
       "    <tr>\n",
       "      <th>Tirunelveli</th>\n",
       "      <td>659812</td>\n",
       "    </tr>\n",
       "    <tr>\n",
       "      <th>Perambalur</th>\n",
       "      <td>659738</td>\n",
       "    </tr>\n",
       "  </tbody>\n",
       "</table>\n",
       "</div>"
      ],
      "text/plain": [
       "             sales_price\n",
       "city                    \n",
       "Kanyakumari       706764\n",
       "Vellore           675296\n",
       "Bodi              667177\n",
       "Tirunelveli       659812\n",
       "Perambalur        659738"
      ]
     },
     "execution_count": 28,
     "metadata": {},
     "output_type": "execute_result"
    }
   ],
   "source": [
    "city_sale = supermart[['city', 'sales_price']].groupby('city').sum()\n",
    "city_sale = city_sale.sort_values('sales_price', ascending=False)[0:5]\n",
    "city_sale"
   ]
  },
  {
   "cell_type": "code",
   "execution_count": 73,
   "id": "2631a1be",
   "metadata": {},
   "outputs": [
    {
     "data": {
      "text/plain": [
       "<AxesSubplot:title={'center':'Top 5 Cities with highest sales'}, xlabel='city', ylabel='Sales'>"
      ]
     },
     "execution_count": 73,
     "metadata": {},
     "output_type": "execute_result"
    },
    {
     "data": {
      "image/png": "[encoded data removed]",
      "text/plain": [
       "<Figure size 504x360 with 1 Axes>"
      ]
     },
     "metadata": {
      "needs_background": "light"
     },
     "output_type": "display_data"
    }
   ],
   "source": [
    "city_sale.plot(kind='line',color = 'black', linewidth=3, marker='.',markerfacecolor='white',markersize=15, \n",
    "                ylabel='Sales', title ='Top 5 Cities with highest sales', figsize=(7,5))"
   ]
  },
  {
   "cell_type": "markdown",
   "id": "cb86b836",
   "metadata": {},
   "source": [
    " Vellore, Bodi and Kanyakumari are the top 3 cities having highest sales"
   ]
  },
  {
   "cell_type": "code",
   "execution_count": null,
   "id": "e0c0bef5",
   "metadata": {},
   "outputs": [],
   "source": []
  },
  {
   "cell_type": "markdown",
   "id": "ac690444",
   "metadata": {},
   "source": [
    "#### What are the top 5 cities with lowest sales? "
   ]
  },
  {
   "cell_type": "code",
   "execution_count": 30,
   "id": "55fac9aa",
   "metadata": {},
   "outputs": [
    {
     "data": {
      "text/html": [
       "<div>\n",
       "<style scoped>\n",
       "    .dataframe tbody tr th:only-of-type {\n",
       "        vertical-align: middle;\n",
       "    }\n",
       "\n",
       "    .dataframe tbody tr th {\n",
       "        vertical-align: top;\n",
       "    }\n",
       "\n",
       "    .dataframe thead th {\n",
       "        text-align: right;\n",
       "    }\n",
       "</style>\n",
       "<table border=\"1\" class=\"dataframe\">\n",
       "  <thead>\n",
       "    <tr style=\"text-align: right;\">\n",
       "      <th></th>\n",
       "      <th>sales_price</th>\n",
       "    </tr>\n",
       "    <tr>\n",
       "      <th>city</th>\n",
       "      <th></th>\n",
       "    </tr>\n",
       "  </thead>\n",
       "  <tbody>\n",
       "    <tr>\n",
       "      <th>Trichy</th>\n",
       "      <td>541403</td>\n",
       "    </tr>\n",
       "    <tr>\n",
       "      <th>Nagercoil</th>\n",
       "      <td>551435</td>\n",
       "    </tr>\n",
       "    <tr>\n",
       "      <th>Dharmapuri</th>\n",
       "      <td>571553</td>\n",
       "    </tr>\n",
       "    <tr>\n",
       "      <th>Dindigul</th>\n",
       "      <td>575631</td>\n",
       "    </tr>\n",
       "    <tr>\n",
       "      <th>Theni</th>\n",
       "      <td>579553</td>\n",
       "    </tr>\n",
       "  </tbody>\n",
       "</table>\n",
       "</div>"
      ],
      "text/plain": [
       "            sales_price\n",
       "city                   \n",
       "Trichy           541403\n",
       "Nagercoil        551435\n",
       "Dharmapuri       571553\n",
       "Dindigul         575631\n",
       "Theni            579553"
      ]
     },
     "execution_count": 30,
     "metadata": {},
     "output_type": "execute_result"
    }
   ],
   "source": [
    "city_sale2 = supermart[['city', 'sales_price']].groupby('city').sum()\n",
    "city_sale2 = city_sale2.sort_values('sales_price', ascending=True)[:5]\n",
    "city_sale2"
   ]
  },
  {
   "cell_type": "code",
   "execution_count": 31,
   "id": "ea41a94c",
   "metadata": {},
   "outputs": [
    {
     "data": {
      "text/plain": [
       "<AxesSubplot:title={'center':'Top 5 Cities with lowest sales'}, xlabel='city', ylabel='Sales'>"
      ]
     },
     "execution_count": 31,
     "metadata": {},
     "output_type": "execute_result"
    },
    {
     "data": {
      "image/png": "[encoded data removed]",
      "text/plain": [
       "<Figure size 504x360 with 1 Axes>"
      ]
     },
     "metadata": {
      "needs_background": "light"
     },
     "output_type": "display_data"
    }
   ],
   "source": [
    "city_sale2.plot(kind='line',color = 'black', linewidth=3, marker='.',markerfacecolor='white',markersize=15, \n",
    "                ylabel='Sales', title ='Top 5 Cities with lowest sales', figsize=(7,5))"
   ]
  },
  {
   "cell_type": "markdown",
   "id": "8ac8d0a1",
   "metadata": {},
   "source": [
    " Trichy, Nagercoil and Dharmapuri are the 3 cities with lowest sales"
   ]
  },
  {
   "cell_type": "code",
   "execution_count": null,
   "id": "f65013e4",
   "metadata": {},
   "outputs": [],
   "source": []
  },
  {
   "cell_type": "markdown",
   "id": "54c1ec43",
   "metadata": {},
   "source": [
    "#### Top 5 customers by sales? "
   ]
  },
  {
   "cell_type": "code",
   "execution_count": 32,
   "id": "c1867d5e",
   "metadata": {},
   "outputs": [
    {
     "data": {
      "text/html": [
       "<div>\n",
       "<style scoped>\n",
       "    .dataframe tbody tr th:only-of-type {\n",
       "        vertical-align: middle;\n",
       "    }\n",
       "\n",
       "    .dataframe tbody tr th {\n",
       "        vertical-align: top;\n",
       "    }\n",
       "\n",
       "    .dataframe thead th {\n",
       "        text-align: right;\n",
       "    }\n",
       "</style>\n",
       "<table border=\"1\" class=\"dataframe\">\n",
       "  <thead>\n",
       "    <tr style=\"text-align: right;\">\n",
       "      <th></th>\n",
       "      <th>sales_price</th>\n",
       "    </tr>\n",
       "    <tr>\n",
       "      <th>customer_name</th>\n",
       "      <th></th>\n",
       "    </tr>\n",
       "  </thead>\n",
       "  <tbody>\n",
       "    <tr>\n",
       "      <th>Krithika</th>\n",
       "      <td>334361</td>\n",
       "    </tr>\n",
       "    <tr>\n",
       "      <th>Amrish</th>\n",
       "      <td>333351</td>\n",
       "    </tr>\n",
       "    <tr>\n",
       "      <th>Verma</th>\n",
       "      <td>331665</td>\n",
       "    </tr>\n",
       "    <tr>\n",
       "      <th>Arutra</th>\n",
       "      <td>325720</td>\n",
       "    </tr>\n",
       "    <tr>\n",
       "      <th>Vidya</th>\n",
       "      <td>321798</td>\n",
       "    </tr>\n",
       "  </tbody>\n",
       "</table>\n",
       "</div>"
      ],
      "text/plain": [
       "               sales_price\n",
       "customer_name             \n",
       "Krithika            334361\n",
       "Amrish              333351\n",
       "Verma               331665\n",
       "Arutra              325720\n",
       "Vidya               321798"
      ]
     },
     "execution_count": 32,
     "metadata": {},
     "output_type": "execute_result"
    }
   ],
   "source": [
    "top_customers = supermart[['customer_name', 'sales_price']].groupby('customer_name').sum()\n",
    "top_customers = top_customers.sort_values('sales_price', ascending=False)[0:5]\n",
    "top_customers\n"
   ]
  },
  {
   "cell_type": "code",
   "execution_count": 33,
   "id": "13fcac83",
   "metadata": {},
   "outputs": [
    {
     "data": {
      "image/png": "[encoded data removed]",
      "text/plain": [
       "<Figure size 504x360 with 1 Axes>"
      ]
     },
     "metadata": {
      "needs_background": "light"
     },
     "output_type": "display_data"
    }
   ],
   "source": [
    "top_customers.plot(kind='line',color = 'black', linewidth=3, marker='.',markerfacecolor='white',markersize=15, \n",
    "                   ylabel='Total Amount Purchased', title ='Top 5 customers by sales', figsize=(7,5));"
   ]
  },
  {
   "cell_type": "markdown",
   "id": "e1fc22ca",
   "metadata": {},
   "source": [
    "Krithika made the highest sales"
   ]
  },
  {
   "cell_type": "code",
   "execution_count": null,
   "id": "3826f5f9",
   "metadata": {},
   "outputs": [],
   "source": []
  },
  {
   "cell_type": "markdown",
   "id": "929e3922",
   "metadata": {},
   "source": [
    "#### Which customer received the most discount?"
   ]
  },
  {
   "cell_type": "code",
   "execution_count": 34,
   "id": "b79f567b",
   "metadata": {},
   "outputs": [
    {
     "data": {
      "text/html": [
       "<div>\n",
       "<style scoped>\n",
       "    .dataframe tbody tr th:only-of-type {\n",
       "        vertical-align: middle;\n",
       "    }\n",
       "\n",
       "    .dataframe tbody tr th {\n",
       "        vertical-align: top;\n",
       "    }\n",
       "\n",
       "    .dataframe thead th {\n",
       "        text-align: right;\n",
       "    }\n",
       "</style>\n",
       "<table border=\"1\" class=\"dataframe\">\n",
       "  <thead>\n",
       "    <tr style=\"text-align: right;\">\n",
       "      <th></th>\n",
       "      <th>discount</th>\n",
       "    </tr>\n",
       "    <tr>\n",
       "      <th>customer_name</th>\n",
       "      <th></th>\n",
       "    </tr>\n",
       "  </thead>\n",
       "  <tbody>\n",
       "    <tr>\n",
       "      <th>Verma</th>\n",
       "      <td>52.16</td>\n",
       "    </tr>\n",
       "    <tr>\n",
       "      <th>Amrish</th>\n",
       "      <td>51.37</td>\n",
       "    </tr>\n",
       "    <tr>\n",
       "      <th>Shah</th>\n",
       "      <td>49.59</td>\n",
       "    </tr>\n",
       "    <tr>\n",
       "      <th>Krithika</th>\n",
       "      <td>48.64</td>\n",
       "    </tr>\n",
       "    <tr>\n",
       "      <th>Arutra</th>\n",
       "      <td>48.43</td>\n",
       "    </tr>\n",
       "  </tbody>\n",
       "</table>\n",
       "</div>"
      ],
      "text/plain": [
       "               discount\n",
       "customer_name          \n",
       "Verma             52.16\n",
       "Amrish            51.37\n",
       "Shah              49.59\n",
       "Krithika          48.64\n",
       "Arutra            48.43"
      ]
     },
     "execution_count": 34,
     "metadata": {},
     "output_type": "execute_result"
    }
   ],
   "source": [
    "most_discount = supermart[['customer_name','discount']].groupby('customer_name').sum()\n",
    "most_discount = most_discount.sort_values('discount',ascending=False)[0:5]\n",
    "most_discount"
   ]
  },
  {
   "cell_type": "code",
   "execution_count": 35,
   "id": "6411b127",
   "metadata": {},
   "outputs": [
    {
     "data": {
      "text/plain": [
       "<AxesSubplot:title={'center':'Top 5 customers with most Discount'}, xlabel='customer_name', ylabel='Discount'>"
      ]
     },
     "execution_count": 35,
     "metadata": {},
     "output_type": "execute_result"
    },
    {
     "data": {
      "image/png": "[encoded data removed]",
      "text/plain": [
       "<Figure size 504x360 with 1 Axes>"
      ]
     },
     "metadata": {
      "needs_background": "light"
     },
     "output_type": "display_data"
    }
   ],
   "source": [
    "most_discount.plot(kind='line',color = 'black', linewidth=3, marker='.',markerfacecolor='white',markersize=15, \n",
    "                   ylabel='Discount', title ='Top 5 customers with most Discount', figsize=(7,5))"
   ]
  },
  {
   "cell_type": "markdown",
   "id": "f7f4e394",
   "metadata": {},
   "source": [
    "\n",
    "Verma received the most discount"
   ]
  },
  {
   "cell_type": "code",
   "execution_count": null,
   "id": "f0de3916",
   "metadata": {},
   "outputs": [],
   "source": []
  },
  {
   "cell_type": "markdown",
   "id": "d20fa8f6",
   "metadata": {},
   "source": [
    "#### Which region have the highest number of orders in the categories? "
   ]
  },
  {
   "cell_type": "code",
   "execution_count": 36,
   "id": "8ba53c54",
   "metadata": {
    "scrolled": false
   },
   "outputs": [
    {
     "data": {
      "text/plain": [
       "Text(0.5, 1.0, 'Category counts by region')"
      ]
     },
     "execution_count": 36,
     "metadata": {},
     "output_type": "execute_result"
    },
    {
     "data": {
      "image/png": "[encoded data removed]",
      "text/plain": [
       "<Figure size 864x432 with 1 Axes>"
      ]
     },
     "metadata": {
      "needs_background": "light"
     },
     "output_type": "display_data"
    }
   ],
   "source": [
    "plt.figure(figsize=(12,6))\n",
    "sns.countplot(data=supermart, x='region', hue=supermart['category'])\n",
    "plt.title('Category counts by region')"
   ]
  },
  {
   "cell_type": "markdown",
   "id": "e6166444",
   "metadata": {},
   "source": [
    " From the bar chat we can see that the West region is the best performing region as it has the higest number of products sold for all categories.\n",
    " On the other hand the South region is not performing very well.\n",
    " "
   ]
  },
  {
   "cell_type": "markdown",
   "id": "3c410341",
   "metadata": {},
   "source": [
    " In terms of sales Oil & Masala is the least performing category of product.\n"
   ]
  },
  {
   "cell_type": "markdown",
   "id": "fbe8a352",
   "metadata": {},
   "source": [
    " Egg, Meat and Fish is the best perfoming category in West and East region. "
   ]
  },
  {
   "cell_type": "markdown",
   "id": "5fb68bca",
   "metadata": {},
   "source": [
    "Snacks is the best perfoming category in South and Central region."
   ]
  },
  {
   "cell_type": "code",
   "execution_count": null,
   "id": "085b2287",
   "metadata": {},
   "outputs": [],
   "source": []
  },
  {
   "cell_type": "markdown",
   "id": "abd6a402",
   "metadata": {},
   "source": [
    "#### Which of bakery item have the most sales in west region? "
   ]
  },
  {
   "cell_type": "code",
   "execution_count": 37,
   "id": "b10ca64d",
   "metadata": {},
   "outputs": [
    {
     "data": {
      "text/html": [
       "<div>\n",
       "<style scoped>\n",
       "    .dataframe tbody tr th:only-of-type {\n",
       "        vertical-align: middle;\n",
       "    }\n",
       "\n",
       "    .dataframe tbody tr th {\n",
       "        vertical-align: top;\n",
       "    }\n",
       "\n",
       "    .dataframe thead th {\n",
       "        text-align: right;\n",
       "    }\n",
       "</style>\n",
       "<table border=\"1\" class=\"dataframe\">\n",
       "  <thead>\n",
       "    <tr style=\"text-align: right;\">\n",
       "      <th></th>\n",
       "      <th>sales_price</th>\n",
       "    </tr>\n",
       "    <tr>\n",
       "      <th>sub_category</th>\n",
       "      <th></th>\n",
       "    </tr>\n",
       "  </thead>\n",
       "  <tbody>\n",
       "    <tr>\n",
       "      <th>Breads &amp; Buns</th>\n",
       "      <td>248972</td>\n",
       "    </tr>\n",
       "    <tr>\n",
       "      <th>Cakes</th>\n",
       "      <td>236306</td>\n",
       "    </tr>\n",
       "    <tr>\n",
       "      <th>Biscuits</th>\n",
       "      <td>229034</td>\n",
       "    </tr>\n",
       "  </tbody>\n",
       "</table>\n",
       "</div>"
      ],
      "text/plain": [
       "               sales_price\n",
       "sub_category              \n",
       "Breads & Buns       248972\n",
       "Cakes               236306\n",
       "Biscuits            229034"
      ]
     },
     "execution_count": 37,
     "metadata": {},
     "output_type": "execute_result"
    }
   ],
   "source": [
    "bakery_item =supermart.groupby('category').get_group('Bakery')\n",
    "west_bakery_item = bakery_item.loc[supermart['region']=='West'].groupby('sub_category').sum()[['sales_price']]\n",
    "west_bakery_item.sort_values('sales_price', ascending=False)"
   ]
  },
  {
   "cell_type": "markdown",
   "id": "0b27c820",
   "metadata": {},
   "source": [
    "Breads & Buns have the most sales in west region"
   ]
  },
  {
   "cell_type": "code",
   "execution_count": null,
   "id": "2ab59f30",
   "metadata": {},
   "outputs": [],
   "source": []
  },
  {
   "cell_type": "markdown",
   "id": "d72d7230",
   "metadata": {},
   "source": [
    " #### Which month does the buisness have the highest sales? "
   ]
  },
  {
   "cell_type": "code",
   "execution_count": 38,
   "id": "78faa47e",
   "metadata": {},
   "outputs": [
    {
     "data": {
      "text/html": [
       "<div>\n",
       "<style scoped>\n",
       "    .dataframe tbody tr th:only-of-type {\n",
       "        vertical-align: middle;\n",
       "    }\n",
       "\n",
       "    .dataframe tbody tr th {\n",
       "        vertical-align: top;\n",
       "    }\n",
       "\n",
       "    .dataframe thead th {\n",
       "        text-align: right;\n",
       "    }\n",
       "</style>\n",
       "<table border=\"1\" class=\"dataframe\">\n",
       "  <thead>\n",
       "    <tr style=\"text-align: right;\">\n",
       "      <th></th>\n",
       "      <th></th>\n",
       "      <th>sales_price</th>\n",
       "    </tr>\n",
       "    <tr>\n",
       "      <th>month</th>\n",
       "      <th>month_name</th>\n",
       "      <th></th>\n",
       "    </tr>\n",
       "  </thead>\n",
       "  <tbody>\n",
       "    <tr>\n",
       "      <th>11</th>\n",
       "      <th>Nov</th>\n",
       "      <td>2192670</td>\n",
       "    </tr>\n",
       "    <tr>\n",
       "      <th>12</th>\n",
       "      <th>Dec</th>\n",
       "      <td>2088076</td>\n",
       "    </tr>\n",
       "    <tr>\n",
       "      <th>9</th>\n",
       "      <th>Sep</th>\n",
       "      <td>2064266</td>\n",
       "    </tr>\n",
       "    <tr>\n",
       "      <th>10</th>\n",
       "      <th>Oct</th>\n",
       "      <td>1243289</td>\n",
       "    </tr>\n",
       "    <tr>\n",
       "      <th>7</th>\n",
       "      <th>Jul</th>\n",
       "      <td>1089385</td>\n",
       "    </tr>\n",
       "    <tr>\n",
       "      <th>5</th>\n",
       "      <th>May</th>\n",
       "      <td>1086920</td>\n",
       "    </tr>\n",
       "    <tr>\n",
       "      <th>6</th>\n",
       "      <th>Jun</th>\n",
       "      <td>1057808</td>\n",
       "    </tr>\n",
       "    <tr>\n",
       "      <th>3</th>\n",
       "      <th>Mar</th>\n",
       "      <td>1053980</td>\n",
       "    </tr>\n",
       "    <tr>\n",
       "      <th>8</th>\n",
       "      <th>Aug</th>\n",
       "      <td>1046807</td>\n",
       "    </tr>\n",
       "    <tr>\n",
       "      <th>4</th>\n",
       "      <th>Apr</th>\n",
       "      <td>998453</td>\n",
       "    </tr>\n",
       "    <tr>\n",
       "      <th>1</th>\n",
       "      <th>Jan</th>\n",
       "      <td>577972</td>\n",
       "    </tr>\n",
       "    <tr>\n",
       "      <th>2</th>\n",
       "      <th>Feb</th>\n",
       "      <td>456102</td>\n",
       "    </tr>\n",
       "  </tbody>\n",
       "</table>\n",
       "</div>"
      ],
      "text/plain": [
       "                  sales_price\n",
       "month month_name             \n",
       "11    Nov             2192670\n",
       "12    Dec             2088076\n",
       "9     Sep             2064266\n",
       "10    Oct             1243289\n",
       "7     Jul             1089385\n",
       "5     May             1086920\n",
       "6     Jun             1057808\n",
       "3     Mar             1053980\n",
       "8     Aug             1046807\n",
       "4     Apr              998453\n",
       "1     Jan              577972\n",
       "2     Feb              456102"
      ]
     },
     "execution_count": 38,
     "metadata": {},
     "output_type": "execute_result"
    }
   ],
   "source": [
    "month_sales = supermart[['month','month_name','sales_price']].groupby(['month','month_name']).sum()\n",
    "month_sales.sort_values('sales_price', ascending = False)"
   ]
  },
  {
   "cell_type": "code",
   "execution_count": 39,
   "id": "3e4a91bd",
   "metadata": {},
   "outputs": [
    {
     "data": {
      "text/plain": [
       "<AxesSubplot:title={'center':'Month wise sales'}, xlabel='Months', ylabel='Sales'>"
      ]
     },
     "execution_count": 39,
     "metadata": {},
     "output_type": "execute_result"
    },
    {
     "data": {
      "image/png": "[encoded data removed]",
      "text/plain": [
       "<Figure size 1080x432 with 1 Axes>"
      ]
     },
     "metadata": {
      "needs_background": "light"
     },
     "output_type": "display_data"
    }
   ],
   "source": [
    "month_sales.plot(kind='line',color = 'black', linewidth=3, marker='.',markerfacecolor='white',markersize=15, \n",
    "                   ylabel='Sales', xlabel = 'Months', title ='Month wise sales', figsize=(15,6))"
   ]
  },
  {
   "cell_type": "markdown",
   "id": "55c1cf20",
   "metadata": {},
   "source": [
    "In November have the highest sales and in February have the lowest sales."
   ]
  },
  {
   "cell_type": "code",
   "execution_count": null,
   "id": "2ca7ffcc",
   "metadata": {},
   "outputs": [],
   "source": []
  },
  {
   "cell_type": "markdown",
   "id": "6aa774fe",
   "metadata": {},
   "source": [
    "#### Which year have the most sales and  profit? "
   ]
  },
  {
   "cell_type": "code",
   "execution_count": 40,
   "id": "8890ac60",
   "metadata": {},
   "outputs": [
    {
     "data": {
      "text/html": [
       "<div>\n",
       "<style scoped>\n",
       "    .dataframe tbody tr th:only-of-type {\n",
       "        vertical-align: middle;\n",
       "    }\n",
       "\n",
       "    .dataframe tbody tr th {\n",
       "        vertical-align: top;\n",
       "    }\n",
       "\n",
       "    .dataframe thead th {\n",
       "        text-align: right;\n",
       "    }\n",
       "</style>\n",
       "<table border=\"1\" class=\"dataframe\">\n",
       "  <thead>\n",
       "    <tr style=\"text-align: right;\">\n",
       "      <th></th>\n",
       "      <th>sales_price</th>\n",
       "      <th>profit</th>\n",
       "    </tr>\n",
       "    <tr>\n",
       "      <th>year</th>\n",
       "      <th></th>\n",
       "      <th></th>\n",
       "    </tr>\n",
       "  </thead>\n",
       "  <tbody>\n",
       "    <tr>\n",
       "      <th>2018</th>\n",
       "      <td>4977512</td>\n",
       "      <td>1244182.88</td>\n",
       "    </tr>\n",
       "    <tr>\n",
       "      <th>2017</th>\n",
       "      <td>3870658</td>\n",
       "      <td>952814.94</td>\n",
       "    </tr>\n",
       "    <tr>\n",
       "      <th>2016</th>\n",
       "      <td>3131959</td>\n",
       "      <td>797192.99</td>\n",
       "    </tr>\n",
       "    <tr>\n",
       "      <th>2015</th>\n",
       "      <td>2975599</td>\n",
       "      <td>752529.11</td>\n",
       "    </tr>\n",
       "  </tbody>\n",
       "</table>\n",
       "</div>"
      ],
      "text/plain": [
       "      sales_price      profit\n",
       "year                         \n",
       "2018      4977512  1244182.88\n",
       "2017      3870658   952814.94\n",
       "2016      3131959   797192.99\n",
       "2015      2975599   752529.11"
      ]
     },
     "execution_count": 40,
     "metadata": {},
     "output_type": "execute_result"
    }
   ],
   "source": [
    "year = supermart[['year','sales_price','profit']].groupby(['year']).sum()\n",
    "year = year.sort_values('sales_price', ascending = False)\n",
    "year               "
   ]
  },
  {
   "cell_type": "code",
   "execution_count": 41,
   "id": "733f0b78",
   "metadata": {},
   "outputs": [
    {
     "data": {
      "text/plain": [
       "<AxesSubplot:title={'center':'Year wise sales and profit'}, xlabel='Years', ylabel='Sales and Profit'>"
      ]
     },
     "execution_count": 41,
     "metadata": {},
     "output_type": "execute_result"
    },
    {
     "data": {
      "image/png": "[encoded data removed]",
      "text/plain": [
       "<Figure size 504x432 with 1 Axes>"
      ]
     },
     "metadata": {
      "needs_background": "light"
     },
     "output_type": "display_data"
    }
   ],
   "source": [
    "year.plot(kind = 'bar', xlabel = 'Years', ylabel = 'Sales and Profit', title='Year wise sales and profit',  figsize = (7,6))"
   ]
  },
  {
   "cell_type": "markdown",
   "id": "ca70274d",
   "metadata": {},
   "source": [
    "In year 2018 Supermart receive the most profit with highest sales"
   ]
  },
  {
   "cell_type": "code",
   "execution_count": null,
   "id": "f3b70dd9",
   "metadata": {},
   "outputs": [],
   "source": []
  },
  {
   "cell_type": "markdown",
   "id": "59b5e16f",
   "metadata": {},
   "source": [
    "#### Which region have the highest sales and profit ?"
   ]
  },
  {
   "cell_type": "code",
   "execution_count": 42,
   "id": "6db4ddb0",
   "metadata": {},
   "outputs": [
    {
     "data": {
      "text/html": [
       "<div>\n",
       "<style scoped>\n",
       "    .dataframe tbody tr th:only-of-type {\n",
       "        vertical-align: middle;\n",
       "    }\n",
       "\n",
       "    .dataframe tbody tr th {\n",
       "        vertical-align: top;\n",
       "    }\n",
       "\n",
       "    .dataframe thead th {\n",
       "        text-align: right;\n",
       "    }\n",
       "</style>\n",
       "<table border=\"1\" class=\"dataframe\">\n",
       "  <thead>\n",
       "    <tr style=\"text-align: right;\">\n",
       "      <th></th>\n",
       "      <th>sales_price</th>\n",
       "      <th>profit</th>\n",
       "    </tr>\n",
       "    <tr>\n",
       "      <th>region</th>\n",
       "      <th></th>\n",
       "      <th></th>\n",
       "    </tr>\n",
       "  </thead>\n",
       "  <tbody>\n",
       "    <tr>\n",
       "      <th>West</th>\n",
       "      <td>4798743</td>\n",
       "      <td>1192004.61</td>\n",
       "    </tr>\n",
       "    <tr>\n",
       "      <th>East</th>\n",
       "      <td>4248368</td>\n",
       "      <td>1074345.58</td>\n",
       "    </tr>\n",
       "    <tr>\n",
       "      <th>Central</th>\n",
       "      <td>3468156</td>\n",
       "      <td>856806.84</td>\n",
       "    </tr>\n",
       "    <tr>\n",
       "      <th>South</th>\n",
       "      <td>2440461</td>\n",
       "      <td>623562.89</td>\n",
       "    </tr>\n",
       "  </tbody>\n",
       "</table>\n",
       "</div>"
      ],
      "text/plain": [
       "         sales_price      profit\n",
       "region                          \n",
       "West         4798743  1192004.61\n",
       "East         4248368  1074345.58\n",
       "Central      3468156   856806.84\n",
       "South        2440461   623562.89"
      ]
     },
     "execution_count": 42,
     "metadata": {},
     "output_type": "execute_result"
    }
   ],
   "source": [
    "sales_by_region= supermart[['region','sales_price','profit']].groupby('region').sum().sort_values('profit', ascending=False)\n",
    "sales_by_region"
   ]
  },
  {
   "cell_type": "code",
   "execution_count": 43,
   "id": "e510589b",
   "metadata": {},
   "outputs": [
    {
     "data": {
      "image/png": "[encoded data removed]",
      "text/plain": [
       "<Figure size 432x432 with 1 Axes>"
      ]
     },
     "metadata": {},
     "output_type": "display_data"
    }
   ],
   "source": [
    "plt.figure(figsize=(6,6))\n",
    "plt.pie(sales_by_region['profit'], labels=sales_by_region.index, autopct='%1.1f%%', startangle=90, explode=(0.3,0.1,0.1,0.1))\n",
    "plt.title('Pie chat showing percentage of profit in each region')\n",
    "plt.show()"
   ]
  },
  {
   "cell_type": "markdown",
   "id": "f6615ec3",
   "metadata": {},
   "source": [
    "West region have the highest sales and profit"
   ]
  },
  {
   "cell_type": "markdown",
   "id": "405bcc90",
   "metadata": {},
   "source": [
    "# SUMMARY"
   ]
  },
  {
   "cell_type": "markdown",
   "id": "7a9673fc",
   "metadata": {},
   "source": [
    "The supermart is a growing and profitable business as the profit increase yearly from 2015 to 2018."
   ]
  },
  {
   "cell_type": "markdown",
   "id": "91cd9aca",
   "metadata": {},
   "source": [
    "The West region is the best region where sales and profit is highest."
   ]
  },
  {
   "cell_type": "markdown",
   "id": "d0021e2b",
   "metadata": {},
   "source": [
    "In cities Kanyakumari having highest sales while Trichy having lowest sales"
   ]
  },
  {
   "cell_type": "markdown",
   "id": "571096b8",
   "metadata": {},
   "source": [
    "Health Drinks and Soft Drinks having the highest profit while Chicken and Rice are the least profitable products."
   ]
  },
  {
   "cell_type": "markdown",
   "id": "fc1311ff",
   "metadata": {},
   "source": [
    "Snacks is the most profitable category and Oil & Masala are the least performing category."
   ]
  },
  {
   "cell_type": "markdown",
   "id": "ebc827a2",
   "metadata": {},
   "source": [
    "There is always an increase in sale in the september, november and december with November being the month with the highest sales."
   ]
  },
  {
   "cell_type": "code",
   "execution_count": null,
   "id": "9197b38e",
   "metadata": {},
   "outputs": [],
   "source": []
  }
 ],
 "metadata": {
  "kernelspec": {
   "display_name": "Python 3 (ipykernel)",
   "language": "python",
   "name": "python3"
  },
  "language_info": {
   "codemirror_mode": {
    "name": "ipython",
    "version": 3
   },
   "file_extension": ".py",
   "mimetype": "text/x-python",
   "name": "python",
   "nbconvert_exporter": "python",
   "pygments_lexer": "ipython3",
   "version": "3.9.12"
  }
 },
 "nbformat": 4,
 "nbformat_minor": 5
}
